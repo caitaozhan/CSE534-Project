{
 "cells": [
  {
   "cell_type": "code",
   "execution_count": 18,
   "metadata": {},
   "outputs": [],
   "source": [
    "import sys\n",
    "import webbrowser\n",
    "import time\n",
    "from selenium import webdriver\n",
    "import numpy as np\n",
    "\n",
    "\n",
    "option = webdriver.ChromeOptions()\n",
    "option.add_extension('Proxy-SwitchyOmega_v2.5.9.crx')\n",
    "browser = webdriver.Chrome(chrome_options=option)\n",
    "browser.get('chrome://extensions/')"
   ]
  },
  {
   "cell_type": "code",
   "execution_count": null,
   "metadata": {},
   "outputs": [],
   "source": [
    "url_list = ['http://sharpdaily.tw', 'http://tma.co.jp/', 'http://www.tryheart.jp/', \n",
    "            'http://twerkingbutt.com/', 'http://www.ulop.net/', 'http://switch1.jp/', \n",
    "            'http://dongtaiwang.com/']\n",
    "\n",
    "temp = ['https://zh.wikipedia.org/zh/%E5%85%AD%E5%9B%9B%E4%BA%8B%E4%BB%B6','https://www.rfa.org/mandarin/yataibaodao/64-06032009120239.html']\n",
    "\n",
    "size = len(url_list)\n",
    "\n",
    "while 1:\n",
    "    time.sleep(4)\n",
    "    browser.get(url_list[np.random.randint(size)])"
   ]
  },
  {
   "cell_type": "code",
   "execution_count": null,
   "metadata": {},
   "outputs": [],
   "source": []
  }
 ],
 "metadata": {
  "kernelspec": {
   "display_name": "Python 3",
   "language": "python",
   "name": "python3"
  },
  "language_info": {
   "codemirror_mode": {
    "name": "ipython",
    "version": 3
   },
   "file_extension": ".py",
   "mimetype": "text/x-python",
   "name": "python",
   "nbconvert_exporter": "python",
   "pygments_lexer": "ipython3",
   "version": "3.6.4"
  }
 },
 "nbformat": 4,
 "nbformat_minor": 2
}
